{
  "nbformat": 4,
  "nbformat_minor": 0,
  "metadata": {
    "colab": {
      "provenance": [],
      "authorship_tag": "ABX9TyM8sj1BufQF0ydn2YirmhxY",
      "include_colab_link": true
    },
    "kernelspec": {
      "name": "python3",
      "display_name": "Python 3"
    },
    "language_info": {
      "name": "python"
    }
  },
  "cells": [
    {
      "cell_type": "markdown",
      "metadata": {
        "id": "view-in-github",
        "colab_type": "text"
      },
      "source": [
        "<a href=\"https://colab.research.google.com/github/jota-f/career_comparator/blob/main/career_comparator.ipynb\" target=\"_parent\"><img src=\"https://colab.research.google.com/assets/colab-badge.svg\" alt=\"Open In Colab\"/></a>"
      ]
    },
    {
      "cell_type": "code",
      "source": [
        "!pip install pyenv\n"
      ],
      "metadata": {
        "colab": {
          "base_uri": "https://localhost:8080/"
        },
        "id": "ud1y-YTHOWha",
        "outputId": "b3675854-dfea-4f2e-ee58-261b59b5cbe3"
      },
      "execution_count": 36,
      "outputs": [
        {
          "output_type": "stream",
          "name": "stdout",
          "text": [
            "Collecting pyenv\n",
            "  Downloading pyenv-0.0.1.tar.gz (1.4 kB)\n",
            "  Preparing metadata (setup.py) ... \u001b[?25l\u001b[?25hdone\n",
            "Building wheels for collected packages: pyenv\n",
            "  \u001b[1;31merror\u001b[0m: \u001b[1msubprocess-exited-with-error\u001b[0m\n",
            "  \n",
            "  \u001b[31m×\u001b[0m \u001b[32mpython setup.py bdist_wheel\u001b[0m did not run successfully.\n",
            "  \u001b[31m│\u001b[0m exit code: \u001b[1;36m1\u001b[0m\n",
            "  \u001b[31m╰─>\u001b[0m See above for output.\n",
            "  \n",
            "  \u001b[1;35mnote\u001b[0m: This error originates from a subprocess, and is likely not a problem with pip.\n",
            "  Building wheel for pyenv (setup.py) ... \u001b[?25lerror\n",
            "\u001b[31m  ERROR: Failed building wheel for pyenv\u001b[0m\u001b[31m\n",
            "\u001b[0m\u001b[?25h  Running setup.py clean for pyenv\n",
            "Failed to build pyenv\n",
            "\u001b[31mERROR: Could not build wheels for pyenv, which is required to install pyproject.toml-based projects\u001b[0m\u001b[31m\n",
            "\u001b[0m"
          ]
        }
      ]
    },
    {
      "cell_type": "code",
      "source": [
        "%run main.py\n"
      ],
      "metadata": {
        "colab": {
          "base_uri": "https://localhost:8080/"
        },
        "id": "LXEhq41A8-Io",
        "outputId": "a1c8b821-9886-4ee9-8610-6013fabe7ade"
      },
      "execution_count": 41,
      "outputs": [
        {
          "output_type": "stream",
          "name": "stdout",
          "text": [
            "Digite o nome do primeiro jogador: neymar\n",
            "Digite o nome do segundo jogador: neymar\n",
            "Os jogadores neymar e neymar jogaram juntos nos seguintes anos e times:\n",
            "Ano: 2022/2023, Time: Paris Saint-Germain\n",
            "Ano: 2022, Time: Paris Saint-Germain\n",
            "Ano: 2021/2022, Time: Paris Saint-Germain\n",
            "Ano: 2020/2021, Time: Paris Saint-Germain\n",
            "Ano: 2020, Time: Paris Saint-Germain\n",
            "Ano: 2019/2020, Time: Paris Saint-Germain\n",
            "Ano: 2018/2019, Time: Paris Saint-Germain\n",
            "Ano: 2018, Time: Paris Saint-Germain\n",
            "Ano: 2017/2018, Time: Paris Saint-Germain\n",
            "Ano: 2016/2017, Time: FC Barcelona\n",
            "Ano: 2015/2016, Time: FC Barcelona\n",
            "Ano: 2015, Time: FC Barcelona\n",
            "Ano: 2014/2015, Time: FC Barcelona\n",
            "Ano: 2013/2014, Time: FC Barcelona\n",
            "Ano: 2013, Time: Santos FC\n",
            "Ano: 2012, Time: Santos FC\n",
            "Ano: 2011, Time: Santos FC\n",
            "Ano: 2010, Time: Santos FC\n",
            "Ano: 2009, Time: Santos FC\n"
          ]
        }
      ]
    },
    {
      "cell_type": "code",
      "source": [
        "!ls"
      ],
      "metadata": {
        "colab": {
          "base_uri": "https://localhost:8080/"
        },
        "id": "eQElrm3MNBfT",
        "outputId": "cbe6f4ed-6113-4967-c30b-da51428ce10e"
      },
      "execution_count": 22,
      "outputs": [
        {
          "output_type": "stream",
          "name": "stdout",
          "text": [
            "jogador.py  main.py  __pycache__  README.md  relatorio1.py  webscraping.py\n"
          ]
        }
      ]
    }
  ]
}