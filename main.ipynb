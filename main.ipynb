from jogador import comparar_carreiras

jogador1 = input("Digite o nome do primeiro jogador: ")
jogador2 = input("Digite o nome do segundo jogador: ")

comparar_carreiras(jogador1, jogador2)
